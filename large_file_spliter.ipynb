{
 "cells": [
  {
   "cell_type": "code",
   "execution_count": 2,
   "id": "5408e434",
   "metadata": {},
   "outputs": [
    {
     "ename": "FileNotFoundError",
     "evalue": "[Errno 2] No such file or directory: 'diabetes.csv'",
     "output_type": "error",
     "traceback": [
      "\u001b[1;31m---------------------------------------------------------------------------\u001b[0m",
      "\u001b[1;31mFileNotFoundError\u001b[0m                         Traceback (most recent call last)",
      "Input \u001b[1;32mIn [2]\u001b[0m, in \u001b[0;36m<cell line: 48>\u001b[1;34m()\u001b[0m\n\u001b[0;32m     27\u001b[0m \u001b[38;5;66;03m# if file_extension == '.json':\u001b[39;00m\n\u001b[0;32m     28\u001b[0m     \n\u001b[0;32m     29\u001b[0m \u001b[38;5;66;03m#     #you need to add you path here\u001b[39;00m\n\u001b[1;32m   (...)\u001b[0m\n\u001b[0;32m     43\u001b[0m \u001b[38;5;66;03m#                 file_name_part1 + str(i+1) + \".json\", 'w',\u001b[39;00m\n\u001b[0;32m     44\u001b[0m \u001b[38;5;66;03m#                 encoding='utf8'), ensure_ascii=False, indent=True)\u001b[39;00m\n\u001b[0;32m     48\u001b[0m \u001b[38;5;28;01mif\u001b[39;00m file_extension \u001b[38;5;241m==\u001b[39m \u001b[38;5;124m'\u001b[39m\u001b[38;5;124m.csv\u001b[39m\u001b[38;5;124m'\u001b[39m:\n\u001b[0;32m     49\u001b[0m     \u001b[38;5;66;03m#you need to add you path here\u001b[39;00m\n\u001b[1;32m---> 50\u001b[0m     \u001b[38;5;28;01mwith\u001b[39;00m \u001b[38;5;28;43mopen\u001b[39;49m\u001b[43m(\u001b[49m\u001b[43mfile_name\u001b[49m\u001b[43m,\u001b[49m\u001b[43m \u001b[49m\u001b[38;5;124;43m\"\u001b[39;49m\u001b[38;5;124;43mr\u001b[39;49m\u001b[38;5;124;43m\"\u001b[39;49m\u001b[43m)\u001b[49m \u001b[38;5;28;01mas\u001b[39;00m data_file:\n\u001b[0;32m     52\u001b[0m         count \u001b[38;5;241m=\u001b[39m \u001b[38;5;241m0\u001b[39m\n\u001b[0;32m     53\u001b[0m         header \u001b[38;5;241m=\u001b[39m data_file\u001b[38;5;241m.\u001b[39mreadline()\n",
      "\u001b[1;31mFileNotFoundError\u001b[0m: [Errno 2] No such file or directory: 'diabetes.csv'"
     ]
    }
   ],
   "source": [
    "import json\n",
    "import csv\n",
    "\n",
    "import os\n",
    "# input file\n",
    "#file_name = \"large_file.json\"\n",
    "file_name = 'diabetes.csv'\n",
    "\n",
    "\n",
    "# this will return a tuple of root and extension\n",
    "file_name_split = os.path.splitext(file_name)\n",
    "\n",
    "\n",
    "file_name_part1 = file_name_split[0]\n",
    "file_extension = file_name_split[1]\n",
    "chunk_file_size = 200\n",
    "\n",
    "\n",
    "\n",
    "def create_chunk(part, lines):\n",
    "    with open(file_n_part1 + str(part) +'.csv', 'w') as f_out:\n",
    "        f_out.write(header)\n",
    "        f_out.writelines(lines)\n",
    "        \n",
    "        \n",
    "        \n",
    "# if file_extension == '.json':\n",
    "    \n",
    "#     #you need to add you path here\n",
    "#     with open(file_name, 'r', encoding = 'utf-8') as data_file:\n",
    "\n",
    "\n",
    "#         # load the data into a dictionary\n",
    "#         data = json.load(data_file)\n",
    "\n",
    "\n",
    "#         #this is the total length size of the json file\n",
    "#         total = len(data) // chunk_file_size\n",
    "\n",
    "\n",
    "#         for i in range(total+1):\n",
    "#             json.dump(data[i * chunk_file_size:(i + 1) * chunk_file_size], open(\n",
    "#                 file_name_part1 + str(i+1) + \".json\", 'w',\n",
    "#                 encoding='utf8'), ensure_ascii=False, indent=True)\n",
    "        \n",
    "        \n",
    "        \n",
    "if file_extension == '.csv':\n",
    "    #you need to add you path here\n",
    "    with open(file_name, \"r\") as data_file:\n",
    "    \n",
    "        count = 0\n",
    "        header = data_file.readline()\n",
    "\n",
    "        lines = []\n",
    "        for line in data_file:\n",
    "            count += 1\n",
    "            lines.append(line)\n",
    "            if count % chunk_file_size == 0:\n",
    "                write_chunk(count // chunk_file_size, lines)\n",
    "                lines = []\n",
    "\n",
    "        # write remainder\n",
    "        if len(lines) > 0:\n",
    "            create_chunk((count // chunk_file_size) + 1, lines)\n",
    "            \n",
    "\n",
    "# else:\n",
    "#     print('Please only JSON files are allowed')\n",
    "    "
   ]
  },
  {
   "cell_type": "code",
   "execution_count": null,
   "id": "335e360c",
   "metadata": {},
   "outputs": [],
   "source": []
  },
  {
   "cell_type": "code",
   "execution_count": null,
   "id": "5b4bc51a",
   "metadata": {},
   "outputs": [],
   "source": []
  }
 ],
 "metadata": {
  "kernelspec": {
   "display_name": "Python 3 (ipykernel)",
   "language": "python",
   "name": "python3"
  },
  "language_info": {
   "codemirror_mode": {
    "name": "ipython",
    "version": 3
   },
   "file_extension": ".py",
   "mimetype": "text/x-python",
   "name": "python",
   "nbconvert_exporter": "python",
   "pygments_lexer": "ipython3",
   "version": "3.10.4"
  },
  "vscode": {
   "interpreter": {
    "hash": "aee8b7b246df8f9039afb4144a1f6fd8d2ca17a180786b69acc140d282b71a49"
   }
  }
 },
 "nbformat": 4,
 "nbformat_minor": 5
}
